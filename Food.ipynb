{
 "cells": [
  {
   "cell_type": "code",
   "execution_count": 1,
   "id": "4ad6c7d9",
   "metadata": {},
   "outputs": [
    {
     "name": "stdout",
     "output_type": "stream",
     "text": [
      "json file generated\n"
     ]
    }
   ],
   "source": [
    "import json\n",
    "\n",
    "x = {\"Food_Details\":[\n",
    "{\"1\": \"Food\",\"Food_Name\": \"Tandoori Chicken\",\"Quantity \": \"4 Pieces\",\"Price \": 240,\"Discount \": 1,\"Stock Left\": 15},\n",
    "{\"2\": \"Food\",\"Food_Name\": \"Vegan Burger\",\"Quantity \": \"1 Piece\",\"Price \": 320,\"Discount \": 30,\"Stock Left\": 300},\n",
    "{\"3\": \"Food\",\"Food_Name\": \"Truffle Cake\",\"Quantity \": \"500 Gm\",\"Price \": 900,\"Discount \": 50,\"Stock Left\": 123},\n",
    "{\"4\": \"Food\",\"Food_Name\": \"Samosa\",\"Quantity \": \"1 Plate\",\"Price \": 30,\"Discount \": 2,\"Stock Left\": 350},\n",
    "{\"5\": \"Food\",\"Food_Name\": \"Gulab Jamun\",\"Quantity \": \"500 gm\",\"Price \": 150,\"Discount \": 5,\"Stock Left\": 10},\n",
    "{\"6\": \"Food\",\"Food_Name\": \"Kachori\",\"Quantity \": \"1 Piece\",\"Price \": 30,\"Discount \": 2,\"Stock Left\": 300},\n",
    "{\"7\": \"Food\",\"Food_Name\": \"Vada Pav\",\"Quantity \": \"1 Piece\",\"Price \": 30,\"Discount \": 3,\"Stock Left\": 200},\n",
    "{\"8\": \"Food\",\"Food_Name\": \"Rasgulla\",\"Quantity \": \"500 gm\",\"Price \": 150,\"Discount \": 10,\"Stock Left\": 10},\n",
    "{\"9\": \"Food\",\"Food_Name\": \"Masala Dosa\",\"Quantity \": \"1 Plate\",\"Price \": 80,\"Discount \": 4,\"Stock Left\": 150},\n",
    "{\"9\": \"Food\",\"Food_Name\": \"Pizza\",\"Quantity \": \"4 Piece\",\"Price \": 150,\"Discount \": 5,\"Stock Left\": 450},\n",
    "{\"10\": \"Food\",\"Food_Name\": \"Noodles\",\"Quantity \": \"1 Plate\",\"Price \": 60,\"Discount \": 5,\"Stock Left\": 120}]}\n",
    "\n",
    "with open(\"Food.json\",\"w\") as f : json.dump(x,f,indent=12)\n",
    "print(\"json file generated\")"
   ]
  }
 ],
 "metadata": {
  "kernelspec": {
   "display_name": "Python 3 (ipykernel)",
   "language": "python",
   "name": "python3"
  },
  "language_info": {
   "codemirror_mode": {
    "name": "ipython",
    "version": 3
   },
   "file_extension": ".py",
   "mimetype": "text/x-python",
   "name": "python",
   "nbconvert_exporter": "python",
   "pygments_lexer": "ipython3",
   "version": "3.9.13"
  }
 },
 "nbformat": 4,
 "nbformat_minor": 5
}
