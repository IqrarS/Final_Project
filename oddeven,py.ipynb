{
 "cells": [
  {
   "cell_type": "code",
   "execution_count": 3,
   "id": "01b5051e",
   "metadata": {},
   "outputs": [
    {
     "name": "stdout",
     "output_type": "stream",
     "text": [
      "total even number =  4\n",
      "total odd number =  5\n"
     ]
    }
   ],
   "source": [
    "x = [1,2,3,4,5,6,7,8,9]\n",
    "\n",
    "total_even = 0\n",
    "total_odd = 0\n",
    "\n",
    "for number in x:\n",
    "    if(number%2 == 0):\n",
    "        total_even = total_even + 1\n",
    "    else:\n",
    "        total_odd = total_odd + 1\n",
    "print('total even number = ' , total_even)\n",
    "print('total odd number = ' , total_odd)"
   ]
  }
 ],
 "metadata": {
  "kernelspec": {
   "display_name": "Python 3 (ipykernel)",
   "language": "python",
   "name": "python3"
  },
  "language_info": {
   "codemirror_mode": {
    "name": "ipython",
    "version": 3
   },
   "file_extension": ".py",
   "mimetype": "text/x-python",
   "name": "python",
   "nbconvert_exporter": "python",
   "pygments_lexer": "ipython3",
   "version": "3.9.13"
  }
 },
 "nbformat": 4,
 "nbformat_minor": 5
}
