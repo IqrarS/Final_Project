{
 "cells": [
  {
   "cell_type": "code",
   "execution_count": 1,
   "id": "d208dd60",
   "metadata": {},
   "outputs": [
    {
     "name": "stdout",
     "output_type": "stream",
     "text": [
      "json file generated\n"
     ]
    }
   ],
   "source": [
    "import json\n",
    "x={\"Order History\": [\"Tandoori Chicken\",\"Samosa\",\"Kachori\",\"Vegan Burger\",\"Truffle Cake\"],\"Total Bill\": 821}\n",
    "with open(\"Food.json\",\"w\") as f : json.dump(x,f,indent=1)\n",
    "print(\"json file generated\")"
   ]
  }
 ],
 "metadata": {
  "kernelspec": {
   "display_name": "Python 3 (ipykernel)",
   "language": "python",
   "name": "python3"
  },
  "language_info": {
   "codemirror_mode": {
    "name": "ipython",
    "version": 3
   },
   "file_extension": ".py",
   "mimetype": "text/x-python",
   "name": "python",
   "nbconvert_exporter": "python",
   "pygments_lexer": "ipython3",
   "version": "3.9.13"
  }
 },
 "nbformat": 4,
 "nbformat_minor": 5
}
