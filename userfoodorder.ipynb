{
 "cells": [
  {
   "cell_type": "code",
   "execution_count": 1,
   "id": "bec1a3b8",
   "metadata": {},
   "outputs": [
    {
     "name": "stdout",
     "output_type": "stream",
     "text": [
      "json file generated\n"
     ]
    }
   ],
   "source": [
    "import json\n",
    "\n",
    "x={\"B_01\": [{\"Name\": \"Iqrar\",\"Mobile\": 77575,\"Email ID\": \"iqrar@gmail.com\",\"Address\": \"Nagpur\",\"Password\": \"Iqrar1\"}]}\n",
    "\n",
    "with open(\"Employ.json\",\"w\") as f : json.dump(x,f,indent=5)\n",
    "print(\"json file generated\")"
   ]
  }
 ],
 "metadata": {
  "kernelspec": {
   "display_name": "Python 3 (ipykernel)",
   "language": "python",
   "name": "python3"
  },
  "language_info": {
   "codemirror_mode": {
    "name": "ipython",
    "version": 3
   },
   "file_extension": ".py",
   "mimetype": "text/x-python",
   "name": "python",
   "nbconvert_exporter": "python",
   "pygments_lexer": "ipython3",
   "version": "3.9.13"
  }
 },
 "nbformat": 4,
 "nbformat_minor": 5
}
